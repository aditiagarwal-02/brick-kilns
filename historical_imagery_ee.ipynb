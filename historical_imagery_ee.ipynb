{
 "cells": [
  {
   "cell_type": "code",
   "execution_count": 1,
   "metadata": {},
   "outputs": [
    {
     "data": {
      "text/html": [
       "<p>To authorize access needed by Earth Engine, open the following\n",
       "        URL in a web browser and follow the instructions:</p>\n",
       "        <p><a href=https://code.earthengine.google.com/client-auth?scopes=https%3A//www.googleapis.com/auth/earthengine%20https%3A//www.googleapis.com/auth/devstorage.full_control&request_id=h2mEH4i0GnLBFX3q0cf_6PS-Ln6_gqpYBG0MMfdRZ7U&tc=sygjkrdjvC81rJRxGOD8A_KR3gxCdvP1M9bcuuhsMEw&cc=KDeu7ZiitDxbdh8HOsTxn9S1Uyf-qRT7opF8PmAW_sk>https://code.earthengine.google.com/client-auth?scopes=https%3A//www.googleapis.com/auth/earthengine%20https%3A//www.googleapis.com/auth/devstorage.full_control&request_id=h2mEH4i0GnLBFX3q0cf_6PS-Ln6_gqpYBG0MMfdRZ7U&tc=sygjkrdjvC81rJRxGOD8A_KR3gxCdvP1M9bcuuhsMEw&cc=KDeu7ZiitDxbdh8HOsTxn9S1Uyf-qRT7opF8PmAW_sk</a></p>\n",
       "        <p>The authorization workflow will generate a code, which you should paste in the box below.</p>\n",
       "        "
      ],
      "text/plain": [
       "<IPython.core.display.HTML object>"
      ]
     },
     "metadata": {},
     "output_type": "display_data"
    },
    {
     "name": "stdout",
     "output_type": "stream",
     "text": [
      "\n",
      "Successfully saved authorization token.\n",
      "Image URL: https://earthengine.googleapis.com/v1/projects/earthengine-legacy/thumbnails/b771a52576150a8df3a58226f0d2d14c-d5a3ea0a19d5340e5c1c817a04b46453:getPixels\n"
     ]
    }
   ],
   "source": [
    "import ee\n",
    "\n",
    "ee.Authenticate()\n",
    "ee.Initialize()\n",
    "\n",
    "lat = 26.771664\n",
    "lon = 75.352249\n",
    "\n",
    "\n",
    "point = ee.Geometry.Point([lon, lat])\n",
    "\n",
    "start_year = 2016\n",
    "end_year = 2023\n",
    "\n",
    "\n",
    "zoom_level = 760\n",
    "\n",
    "point = point.buffer(zoom_level)\n",
    "\n",
    "\n",
    "##Using Landsat 9 data\n",
    "image = ee.ImageCollection(\"LANDSAT/LC09/C02/T1_TOA\").filterBounds(point).filterDate(f'{start_year}-01-01', f'{end_year}-12-31').first()\n",
    "\n",
    "\n",
    "if image:\n",
    "    # Select bands for visualization.\n",
    "    bands = ['B4', 'B3', 'B2']  # Red, Green, Blue\n",
    "\n",
    "    clipped_image = image.clip(point)\n",
    "    url = clipped_image.getThumbUrl({'dimensions': 500, 'bands': bands})\n",
    "    print('Image URL:', url)\n",
    "else:\n",
    "    print('No image found for the specified location.')"
   ]
  },
  {
   "cell_type": "markdown",
   "metadata": {},
   "source": [
    "Visualizing the image using GeeMap on a Map"
   ]
  },
  {
   "cell_type": "code",
   "execution_count": 13,
   "metadata": {},
   "outputs": [
    {
     "data": {
      "application/vnd.jupyter.widget-view+json": {
       "model_id": "a4b97268e3c34b828234a23a71cf57fb",
       "version_major": 2,
       "version_minor": 0
      },
      "text/plain": [
       "Map(center=[22.2791, 88.07145], controls=(WidgetControl(options=['position', 'transparent_bg'], widget=HBox(ch…"
      ]
     },
     "execution_count": 13,
     "metadata": {},
     "output_type": "execute_result"
    }
   ],
   "source": [
    "import geemap\n",
    "import ee\n",
    "\n",
    "\n",
    "ee.Initialize()\n",
    "\n",
    "# Define latitude, longitude, year, and zoom level\n",
    "latitude = 22.27910\n",
    "longitude = 88.07145\n",
    "year = 2021\n",
    "zoom = 15\n",
    "\n",
    "# Create a point geometry for the given lat-long\n",
    "point = ee.Geometry.Point([longitude, latitude])\n",
    "\n",
    "# Load Landsat imagery\n",
    "collection = ee.ImageCollection(\"LANDSAT/LC08/C01/T1_SR\") \\\n",
    "    .filterBounds(point) \\\n",
    "    .filterDate(f'{year}-01-01', f'{year}-12-31') \\\n",
    "    .sort('CLOUD_COVER') \\\n",
    "    .first()\n",
    "\n",
    "# Define visualization parameters\n",
    "vis_params = {\n",
    "    'bands': ['B4', 'B3', 'B2'],  # True color bands\n",
    "    'min': 0,\n",
    "    'max': 3000,\n",
    "}\n",
    "\n",
    "# Create a map centered at the given point\n",
    "Map = geemap.Map(center=[latitude, longitude], zoom=zoom)\n",
    "\n",
    "# Add Landsat image to the map\n",
    "Map.addLayer(collection, vis_params, \"Landsat Image\")\n",
    "\n",
    "# Display the map in the notebook\n",
    "Map\n"
   ]
  },
  {
   "cell_type": "code",
   "execution_count": null,
   "metadata": {},
   "outputs": [],
   "source": []
  }
 ],
 "metadata": {
  "kernelspec": {
   "display_name": "Python 3",
   "language": "python",
   "name": "python3"
  },
  "language_info": {
   "codemirror_mode": {
    "name": "ipython",
    "version": 3
   },
   "file_extension": ".py",
   "mimetype": "text/x-python",
   "name": "python",
   "nbconvert_exporter": "python",
   "pygments_lexer": "ipython3",
   "version": "3.8.10"
  },
  "orig_nbformat": 4
 },
 "nbformat": 4,
 "nbformat_minor": 2
}
